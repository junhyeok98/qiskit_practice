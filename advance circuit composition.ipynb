{
 "cells": [
  {
   "cell_type": "code",
   "execution_count": 1,
   "id": "77eb36b2",
   "metadata": {},
   "outputs": [],
   "source": [
    "import numpy as np"
   ]
  },
  {
   "cell_type": "code",
   "execution_count": 2,
   "id": "2981032f",
   "metadata": {},
   "outputs": [],
   "source": [
    "from qiskit import *"
   ]
  },
  {
   "cell_type": "code",
   "execution_count": 4,
   "id": "bea00336",
   "metadata": {},
   "outputs": [],
   "source": [
    "from qiskit.circuit import Parameter"
   ]
  },
  {
   "cell_type": "code",
   "execution_count": 5,
   "id": "0dcaffad",
   "metadata": {},
   "outputs": [],
   "source": [
    "phi = Parameter('phi')"
   ]
  },
  {
   "cell_type": "code",
   "execution_count": 6,
   "id": "619d7179",
   "metadata": {},
   "outputs": [],
   "source": [
    "sub_circ1 = QuantumCircuit(2, name='sc_1')"
   ]
  },
  {
   "cell_type": "code",
   "execution_count": 7,
   "id": "5728f6c1",
   "metadata": {},
   "outputs": [
    {
     "data": {
      "text/plain": [
       "<qiskit.circuit.instructionset.InstructionSet at 0x238a7e38070>"
      ]
     },
     "execution_count": 7,
     "metadata": {},
     "output_type": "execute_result"
    }
   ],
   "source": [
    "sub_circ1.rz(phi, 0)"
   ]
  },
  {
   "cell_type": "code",
   "execution_count": 8,
   "id": "500e55f6",
   "metadata": {},
   "outputs": [
    {
     "data": {
      "text/plain": [
       "<qiskit.circuit.instructionset.InstructionSet at 0x238a56178b0>"
      ]
     },
     "execution_count": 8,
     "metadata": {},
     "output_type": "execute_result"
    }
   ],
   "source": [
    "sub_circ1.rx(phi, 1)"
   ]
  },
  {
   "cell_type": "code",
   "execution_count": 9,
   "id": "6426c660",
   "metadata": {},
   "outputs": [
    {
     "data": {
      "text/plain": [
       "<qiskit.circuit.instructionset.InstructionSet at 0x238a7e38280>"
      ]
     },
     "execution_count": 9,
     "metadata": {},
     "output_type": "execute_result"
    }
   ],
   "source": [
    "sub_circ2 = QuantumCircuit(2, name='sc_2')\n",
    "sub_circ2.rx(phi, 0)\n",
    "sub_circ2.rz(phi, 1)"
   ]
  },
  {
   "cell_type": "code",
   "execution_count": 10,
   "id": "ea735f92",
   "metadata": {},
   "outputs": [],
   "source": [
    "qc = QuantumCircuit(4)\n",
    "qr = qc.qregs[0]\n"
   ]
  },
  {
   "cell_type": "code",
   "execution_count": 11,
   "id": "c92b2cca",
   "metadata": {},
   "outputs": [
    {
     "data": {
      "text/plain": [
       "<qiskit.circuit.instructionset.InstructionSet at 0x238a7e38130>"
      ]
     },
     "execution_count": 11,
     "metadata": {},
     "output_type": "execute_result"
    }
   ],
   "source": [
    "qc.append(sub_circ1.to_instruction(), [qr[0], qr[1]])\n",
    "qc.append(sub_circ2.to_instruction(), [qr[0], qr[1]])"
   ]
  },
  {
   "cell_type": "code",
   "execution_count": 12,
   "id": "728351f9",
   "metadata": {},
   "outputs": [
    {
     "data": {
      "text/plain": [
       "<qiskit.circuit.instructionset.InstructionSet at 0x238a7e38c70>"
      ]
     },
     "execution_count": 12,
     "metadata": {},
     "output_type": "execute_result"
    }
   ],
   "source": [
    "qc.append(sub_circ2.to_instruction(), [qr[2], qr[3]])"
   ]
  },
  {
   "cell_type": "code",
   "execution_count": 13,
   "id": "df5d85fb",
   "metadata": {},
   "outputs": [
    {
     "name": "stdout",
     "output_type": "stream",
     "text": [
      "     ┌────────────┐┌────────────┐\n",
      "q_0: ┤0           ├┤0           ├\n",
      "     │  sc_1(phi) ││  sc_2(phi) │\n",
      "q_1: ┤1           ├┤1           ├\n",
      "     ├────────────┤└────────────┘\n",
      "q_2: ┤0           ├──────────────\n",
      "     │  sc_2(phi) │              \n",
      "q_3: ┤1           ├──────────────\n",
      "     └────────────┘              \n"
     ]
    }
   ],
   "source": [
    "print(qc.draw())"
   ]
  },
  {
   "cell_type": "code",
   "execution_count": 14,
   "id": "ccf2269d",
   "metadata": {},
   "outputs": [
    {
     "data": {
      "text/plain": [
       "<qiskit.circuit.instructionset.InstructionSet at 0x238a7f4b190>"
      ]
     },
     "execution_count": 14,
     "metadata": {},
     "output_type": "execute_result"
    }
   ],
   "source": [
    "p = Parameter('p')\n",
    "qc = QuantumCircuit(3, name='oracle')\n",
    "qc.rz(p, 0)\n",
    "qc.cx(0, 1)\n",
    "qc.rz(p, 1)\n",
    "qc.cx(1, 2)\n",
    "qc.rz(p, 2)"
   ]
  },
  {
   "cell_type": "code",
   "execution_count": 15,
   "id": "83254183",
   "metadata": {},
   "outputs": [],
   "source": [
    "theta = Parameter('theta')\n",
    "phi = Parameter('phi')\n",
    "gamma = Parameter('gamma')"
   ]
  },
  {
   "cell_type": "code",
   "execution_count": 16,
   "id": "e266794c",
   "metadata": {},
   "outputs": [
    {
     "name": "stdout",
     "output_type": "stream",
     "text": [
      "      ┌────────────────┐\n",
      "q0_0: ┤0               ├\n",
      "      │                │\n",
      "q0_1: ┤1 oracle(theta) ├\n",
      "      │                │\n",
      "q0_2: ┤2               ├\n",
      "      └┬──────────────┬┘\n",
      "q0_3: ─┤0             ├─\n",
      "       │              │ \n",
      "q0_4: ─┤1 oracle(phi) ├─\n",
      "       │              │ \n",
      "q0_5: ─┤2             ├─\n",
      "      ┌┴──────────────┴┐\n",
      "q0_6: ┤0               ├\n",
      "      │                │\n",
      "q0_7: ┤1 oracle(gamma) ├\n",
      "      │                │\n",
      "q0_8: ┤2               ├\n",
      "      └────────────────┘\n"
     ]
    }
   ],
   "source": [
    "qr = QuantumRegister(9)\n",
    "larger_qc = QuantumCircuit(qr)\n",
    "larger_qc.append(qc.to_instruction({p: theta}), qr[0:3])\n",
    "larger_qc.append(qc.to_instruction({p: phi}), qr[3:6])\n",
    "larger_qc.append(qc.to_instruction({p: gamma}), qr[6:9])\n",
    "print(larger_qc.draw())"
   ]
  },
  {
   "cell_type": "code",
   "execution_count": 19,
   "id": "58901dd1",
   "metadata": {},
   "outputs": [
    {
     "name": "stdout",
     "output_type": "stream",
     "text": [
      "      ┌───────────┐                                    \n",
      "q0_0: ┤ Rz(theta) ├──■─────────────────────────────────\n",
      "      └───────────┘┌─┴─┐┌───────────┐                  \n",
      "q0_1: ─────────────┤ X ├┤ Rz(theta) ├──■───────────────\n",
      "                   └───┘└───────────┘┌─┴─┐┌───────────┐\n",
      "q0_2: ───────────────────────────────┤ X ├┤ Rz(theta) ├\n",
      "       ┌─────────┐                   └───┘└───────────┘\n",
      "q0_3: ─┤ Rz(phi) ├───■─────────────────────────────────\n",
      "       └─────────┘ ┌─┴─┐ ┌─────────┐                   \n",
      "q0_4: ─────────────┤ X ├─┤ Rz(phi) ├───■───────────────\n",
      "                   └───┘ └─────────┘ ┌─┴─┐ ┌─────────┐ \n",
      "q0_5: ───────────────────────────────┤ X ├─┤ Rz(phi) ├─\n",
      "      ┌───────────┐                  └───┘ └─────────┘ \n",
      "q0_6: ┤ Rz(gamma) ├──■─────────────────────────────────\n",
      "      └───────────┘┌─┴─┐┌───────────┐                  \n",
      "q0_7: ─────────────┤ X ├┤ Rz(gamma) ├──■───────────────\n",
      "                   └───┘└───────────┘┌─┴─┐┌───────────┐\n",
      "q0_8: ───────────────────────────────┤ X ├┤ Rz(gamma) ├\n",
      "                                     └───┘└───────────┘\n"
     ]
    }
   ],
   "source": [
    "print(larger_qc.decompose().draw())"
   ]
  },
  {
   "cell_type": "code",
   "execution_count": null,
   "id": "1239b267",
   "metadata": {},
   "outputs": [],
   "source": []
  }
 ],
 "metadata": {
  "kernelspec": {
   "display_name": "Python 3 (ipykernel)",
   "language": "python",
   "name": "python3"
  },
  "language_info": {
   "codemirror_mode": {
    "name": "ipython",
    "version": 3
   },
   "file_extension": ".py",
   "mimetype": "text/x-python",
   "name": "python",
   "nbconvert_exporter": "python",
   "pygments_lexer": "ipython3",
   "version": "3.9.13"
  }
 },
 "nbformat": 4,
 "nbformat_minor": 5
}
