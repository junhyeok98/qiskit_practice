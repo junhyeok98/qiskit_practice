{
 "cells": [
  {
   "cell_type": "code",
   "execution_count": 2,
   "id": "ea3158e3",
   "metadata": {},
   "outputs": [],
   "source": [
    "import qiskit"
   ]
  },
  {
   "cell_type": "code",
   "execution_count": 8,
   "id": "e54f8af2",
   "metadata": {},
   "outputs": [],
   "source": [
    "quantum_circuit=qiskit.circuit.library.QuantumVolume(4)"
   ]
  },
  {
   "cell_type": "code",
   "execution_count": 9,
   "id": "eada2c3e",
   "metadata": {},
   "outputs": [],
   "source": [
    "quantum_circuit.measure_all()"
   ]
  },
  {
   "cell_type": "code",
   "execution_count": 10,
   "id": "2803d756",
   "metadata": {},
   "outputs": [
    {
     "data": {
      "text/html": [
       "<pre style=\"word-wrap: normal;white-space: pre;background: #fff0;line-height: 1.1;font-family: &quot;Courier New&quot;,Courier,monospace\">        ┌──────────────────────────┐ ░ ┌─┐         \n",
       "   q_0: ┤0                         ├─░─┤M├─────────\n",
       "        │                          │ ░ └╥┘┌─┐      \n",
       "   q_1: ┤1                         ├─░──╫─┤M├──────\n",
       "        │  quantum_volume_[4,4,85] │ ░  ║ └╥┘┌─┐   \n",
       "   q_2: ┤2                         ├─░──╫──╫─┤M├───\n",
       "        │                          │ ░  ║  ║ └╥┘┌─┐\n",
       "   q_3: ┤3                         ├─░──╫──╫──╫─┤M├\n",
       "        └──────────────────────────┘ ░  ║  ║  ║ └╥┘\n",
       "meas: 4/════════════════════════════════╩══╩══╩══╩═\n",
       "                                        0  1  2  3 </pre>"
      ],
      "text/plain": [
       "        ┌──────────────────────────┐ ░ ┌─┐         \n",
       "   q_0: ┤0                         ├─░─┤M├─────────\n",
       "        │                          │ ░ └╥┘┌─┐      \n",
       "   q_1: ┤1                         ├─░──╫─┤M├──────\n",
       "        │  quantum_volume_[4,4,85] │ ░  ║ └╥┘┌─┐   \n",
       "   q_2: ┤2                         ├─░──╫──╫─┤M├───\n",
       "        │                          │ ░  ║  ║ └╥┘┌─┐\n",
       "   q_3: ┤3                         ├─░──╫──╫──╫─┤M├\n",
       "        └──────────────────────────┘ ░  ║  ║  ║ └╥┘\n",
       "meas: 4/════════════════════════════════╩══╩══╩══╩═\n",
       "                                        0  1  2  3 "
      ]
     },
     "execution_count": 10,
     "metadata": {},
     "output_type": "execute_result"
    }
   ],
   "source": [
    "quantum_circuit.draw()"
   ]
  },
  {
   "cell_type": "code",
   "execution_count": null,
   "id": "5fb119f9",
   "metadata": {},
   "outputs": [],
   "source": []
  }
 ],
 "metadata": {
  "kernelspec": {
   "display_name": "Python 3 (ipykernel)",
   "language": "python",
   "name": "python3"
  },
  "language_info": {
   "codemirror_mode": {
    "name": "ipython",
    "version": 3
   },
   "file_extension": ".py",
   "mimetype": "text/x-python",
   "name": "python",
   "nbconvert_exporter": "python",
   "pygments_lexer": "ipython3",
   "version": "3.9.13"
  }
 },
 "nbformat": 4,
 "nbformat_minor": 5
}
