{
 "cells": [
  {
   "cell_type": "code",
   "execution_count": 9,
   "id": "f12fea22",
   "metadata": {},
   "outputs": [],
   "source": [
    "import matplotlib.pyplot as plt"
   ]
  },
  {
   "cell_type": "code",
   "execution_count": 10,
   "id": "7f62263d",
   "metadata": {},
   "outputs": [],
   "source": [
    "import numpy as np"
   ]
  },
  {
   "cell_type": "code",
   "execution_count": 11,
   "id": "1afac512",
   "metadata": {},
   "outputs": [],
   "source": [
    "import math"
   ]
  },
  {
   "cell_type": "code",
   "execution_count": 12,
   "id": "3fc215ac",
   "metadata": {},
   "outputs": [],
   "source": [
    "desired_vector=[1/math.sqrt(16)*complex(0,1),1/math.sqrt(8)*complex(1,0),1/math.sqrt(16)*complex(1,1),0,0,1/math.sqrt(8)*complex(1,2),1/math.sqrt(16)*complex(1,0),0]"
   ]
  },
  {
   "cell_type": "code",
   "execution_count": 26,
   "id": "40d58de5",
   "metadata": {},
   "outputs": [],
   "source": [
    "from qiskit import QuantumRegister, QuantumCircuit, transpile"
   ]
  },
  {
   "cell_type": "code",
   "execution_count": 17,
   "id": "3db01ab4",
   "metadata": {},
   "outputs": [],
   "source": [
    "q=QuantumRegister(3)"
   ]
  },
  {
   "cell_type": "code",
   "execution_count": 18,
   "id": "8b266940",
   "metadata": {},
   "outputs": [],
   "source": [
    "qc=QuantumCircuit(q)"
   ]
  },
  {
   "cell_type": "code",
   "execution_count": 20,
   "id": "208d11eb",
   "metadata": {},
   "outputs": [
    {
     "data": {
      "text/plain": [
       "<qiskit.circuit.instructionset.InstructionSet at 0x1b4a61ce610>"
      ]
     },
     "execution_count": 20,
     "metadata": {},
     "output_type": "execute_result"
    }
   ],
   "source": [
    "qc.initialize(desired_vector, [q[0],q[1],q[2]])"
   ]
  },
  {
   "cell_type": "code",
   "execution_count": 22,
   "id": "8a45467a",
   "metadata": {},
   "outputs": [],
   "source": [
    "from qiskit import BasicAer"
   ]
  },
  {
   "cell_type": "code",
   "execution_count": 24,
   "id": "eff21c3c",
   "metadata": {},
   "outputs": [],
   "source": [
    "backend=BasicAer.get_backend('statevector_simulator')"
   ]
  },
  {
   "cell_type": "code",
   "execution_count": 27,
   "id": "db9b2ed9",
   "metadata": {},
   "outputs": [],
   "source": [
    "job=backend.run(transpile(qc,backend))"
   ]
  },
  {
   "cell_type": "code",
   "execution_count": 28,
   "id": "25ba04b5",
   "metadata": {},
   "outputs": [],
   "source": [
    "qc_state=job.result().get_statevector(qc)"
   ]
  },
  {
   "cell_type": "code",
   "execution_count": 29,
   "id": "44e8086e",
   "metadata": {},
   "outputs": [
    {
     "data": {
      "text/plain": [
       "array([1.52655666e-16+2.50000000e-01j, 3.53553391e-01+5.55111512e-17j,\n",
       "       2.50000000e-01+2.50000000e-01j, 0.00000000e+00+0.00000000e+00j,\n",
       "       0.00000000e+00+0.00000000e+00j, 3.53553391e-01+7.07106781e-01j,\n",
       "       2.50000000e-01-9.02056208e-17j, 0.00000000e+00+0.00000000e+00j])"
      ]
     },
     "execution_count": 29,
     "metadata": {},
     "output_type": "execute_result"
    }
   ],
   "source": [
    "qc_state"
   ]
  },
  {
   "cell_type": "code",
   "execution_count": 31,
   "id": "616dfe96",
   "metadata": {},
   "outputs": [],
   "source": [
    "from qiskit.quantum_info import state_fidelity"
   ]
  },
  {
   "cell_type": "code",
   "execution_count": 32,
   "id": "3dc7ba8f",
   "metadata": {},
   "outputs": [
    {
     "data": {
      "text/plain": [
       "1.0000000000000004"
      ]
     },
     "execution_count": 32,
     "metadata": {},
     "output_type": "execute_result"
    }
   ],
   "source": [
    "state_fidelity(desired_vector,qc_state)"
   ]
  },
  {
   "cell_type": "code",
   "execution_count": null,
   "id": "84321c77",
   "metadata": {},
   "outputs": [],
   "source": []
  }
 ],
 "metadata": {
  "kernelspec": {
   "display_name": "Python 3 (ipykernel)",
   "language": "python",
   "name": "python3"
  },
  "language_info": {
   "codemirror_mode": {
    "name": "ipython",
    "version": 3
   },
   "file_extension": ".py",
   "mimetype": "text/x-python",
   "name": "python",
   "nbconvert_exporter": "python",
   "pygments_lexer": "ipython3",
   "version": "3.9.13"
  }
 },
 "nbformat": 4,
 "nbformat_minor": 5
}
