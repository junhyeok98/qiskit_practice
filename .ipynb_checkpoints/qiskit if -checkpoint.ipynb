{
 "cells": [
  {
   "cell_type": "code",
   "execution_count": 1,
   "id": "79f21d6a",
   "metadata": {},
   "outputs": [],
   "source": [
    "import numpy as np"
   ]
  },
  {
   "cell_type": "code",
   "execution_count": 11,
   "id": "ba341fdd",
   "metadata": {},
   "outputs": [],
   "source": [
    "from qiskit import QuantumCircuit, QuantumRegister, ClassicalRegister"
   ]
  },
  {
   "cell_type": "code",
   "execution_count": 23,
   "id": "37ffd89e",
   "metadata": {},
   "outputs": [],
   "source": [
    "q=QuantumRegister(2)"
   ]
  },
  {
   "cell_type": "code",
   "execution_count": 28,
   "id": "185098b5",
   "metadata": {},
   "outputs": [],
   "source": [
    "c=ClassicalRegister(2)"
   ]
  },
  {
   "cell_type": "code",
   "execution_count": 29,
   "id": "9bb71f4b",
   "metadata": {},
   "outputs": [],
   "source": [
    "qc=QuantumCircuit(q,c)"
   ]
  },
  {
   "cell_type": "code",
   "execution_count": 30,
   "id": "eebafa76",
   "metadata": {},
   "outputs": [
    {
     "data": {
      "text/plain": [
       "<qiskit.circuit.instructionset.InstructionSet at 0x1bfa51de490>"
      ]
     },
     "execution_count": 30,
     "metadata": {},
     "output_type": "execute_result"
    }
   ],
   "source": [
    "qc.x(q[1]).c_if(c,0)"
   ]
  },
  {
   "cell_type": "code",
   "execution_count": 31,
   "id": "324071bc",
   "metadata": {},
   "outputs": [
    {
     "data": {
      "text/plain": [
       "<qiskit.circuit.instructionset.InstructionSet at 0x1bfa73b90a0>"
      ]
     },
     "execution_count": 31,
     "metadata": {},
     "output_type": "execute_result"
    }
   ],
   "source": [
    "qc.measure(q,c)"
   ]
  },
  {
   "cell_type": "code",
   "execution_count": 22,
   "id": "e770d892",
   "metadata": {},
   "outputs": [
    {
     "data": {
      "image/png": "[encoded data removed]",
      "text/plain": [
       "<Figure size 287.294x200.667 with 1 Axes>"
      ]
     },
     "execution_count": 22,
     "metadata": {},
     "output_type": "execute_result"
    }
   ],
   "source": [
    "qc.draw(output='mpl')"
   ]
  },
  {
   "cell_type": "code",
   "execution_count": null,
   "id": "84b96556",
   "metadata": {},
   "outputs": [],
   "source": []
  }
 ],
 "metadata": {
  "kernelspec": {
   "display_name": "Python 3 (ipykernel)",
   "language": "python",
   "name": "python3"
  },
  "language_info": {
   "codemirror_mode": {
    "name": "ipython",
    "version": 3
   },
   "file_extension": ".py",
   "mimetype": "text/x-python",
   "name": "python",
   "nbconvert_exporter": "python",
   "pygments_lexer": "ipython3",
   "version": "3.9.13"
  }
 },
 "nbformat": 4,
 "nbformat_minor": 5
}
