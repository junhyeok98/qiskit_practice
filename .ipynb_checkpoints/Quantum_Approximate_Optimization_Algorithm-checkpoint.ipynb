{
 "cells": [
  {
   "cell_type": "code",
   "execution_count": 1,
   "id": "9fb78677",
   "metadata": {},
   "outputs": [],
   "source": [
    "from __future__ import annotations"
   ]
  },
  {
   "cell_type": "code",
   "execution_count": 2,
   "id": "bd455906",
   "metadata": {},
   "outputs": [],
   "source": [
    "import numpy as np\n",
    "import networkx as nx"
   ]
  },
  {
   "cell_type": "code",
   "execution_count": 9,
   "id": "ee9a1d18",
   "metadata": {},
   "outputs": [],
   "source": [
    "num_nodes = 4\n",
    "w = np.array([[0., 1., 1., 0.],\n",
    "              [1., 0., 1., 1.],\n",
    "              [1., 1., 0., 1.],\n",
    "              [0., 1., 1., 0.]])\n",
    "G = nx.from_numpy_array(w)"
   ]
  },
  {
   "cell_type": "code",
   "execution_count": 10,
   "id": "598c8552",
   "metadata": {},
   "outputs": [
    {
     "data": {
      "image/png": "[encoded data removed]",
      "text/plain": [
       "<Figure size 640x480 with 1 Axes>"
      ]
     },
     "metadata": {},
     "output_type": "display_data"
    }
   ],
   "source": [
    "layout = nx.random_layout(G, seed=10)\n",
    "colors = ['r', 'g', 'b', 'y']\n",
    "nx.draw(G, layout, node_color=colors)\n",
    "labels = nx.get_edge_attributes(G, 'weight')\n",
    "nx.draw_networkx_edge_labels(G, pos=layout, edge_labels=labels);"
   ]
  },
  {
   "cell_type": "code",
   "execution_count": 11,
   "id": "88cc17d2",
   "metadata": {},
   "outputs": [],
   "source": [
    "def objective_value(x: np.ndarray, w: np.ndarray) -> float:\n",
    "    \"\"\"Compute the value of a cut.\n",
    "    Args:\n",
    "        x: Binary string as numpy array.\n",
    "        w: Adjacency matrix.\n",
    "    Returns:\n",
    "        Value of the cut.\n",
    "    \"\"\"\n",
    "    X = np.outer(x, (1 - x))\n",
    "    w_01 = np.where(w != 0, 1, 0)\n",
    "    return np.sum(w_01 * X)"
   ]
  },
  {
   "cell_type": "code",
   "execution_count": 12,
   "id": "7ff94f64",
   "metadata": {},
   "outputs": [],
   "source": [
    "def bitfield(n: int, L: int) -> list[int]:\n",
    "    result = np.binary_repr(n, L)\n",
    "    return [int(digit) for digit in result]"
   ]
  },
  {
   "cell_type": "code",
   "execution_count": 13,
   "id": "11087404",
   "metadata": {},
   "outputs": [],
   "source": [
    "L = num_nodes"
   ]
  },
  {
   "cell_type": "code",
   "execution_count": 14,
   "id": "2c4afe43",
   "metadata": {},
   "outputs": [],
   "source": [
    "max = 2**L"
   ]
  },
  {
   "cell_type": "code",
   "execution_count": 15,
   "id": "912d2928",
   "metadata": {},
   "outputs": [],
   "source": [
    "sol = np.inf"
   ]
  },
  {
   "cell_type": "code",
   "execution_count": 18,
   "id": "1390f148",
   "metadata": {},
   "outputs": [],
   "source": [
    "for i in range(max):\n",
    "    cur = bitfield(i, L)\n",
    "    how_many_nonzero = np.count_nonzero(cur)\n",
    "    if how_many_nonzero * 2 != L:  # not balanced\n",
    "        continue\n",
    "    cur_v = objective_value(np.array(cur), w)\n",
    "    if cur_v < sol:\n",
    "        sol = cur_v"
   ]
  },
  {
   "cell_type": "code",
   "execution_count": 19,
   "id": "5936738c",
   "metadata": {},
   "outputs": [
    {
     "name": "stdout",
     "output_type": "stream",
     "text": [
      "Objective value computed by the brute-force method is 3\n"
     ]
    }
   ],
   "source": [
    "print(f'Objective value computed by the brute-force method is {sol}')"
   ]
  },
  {
   "cell_type": "code",
   "execution_count": 20,
   "id": "8a8b1c77",
   "metadata": {},
   "outputs": [],
   "source": [
    "from qiskit.quantum_info import Pauli, SparsePauli0p"
   ]
  },
  {
   "cell_type": "code",
   "execution_count": 21,
   "id": "22720ae6",
   "metadata": {},
   "outputs": [],
   "source": [
    "def get_operator(weight_matrix: np.ndarray) -> tuple[SparsePauliOp, float]:\n",
    "    r\"\"\"Generate Hamiltonian for the graph partitioning\n",
    "    Notes:\n",
    "        Goals:\n",
    "            1 Separate the vertices into two set of the same size.\n",
    "            2 Make sure the number of edges between the two set is minimized.\n",
    "        Hamiltonian:\n",
    "            H = H_A + H_B\n",
    "            H_A = sum\\_{(i,j)\\in E}{(1-ZiZj)/2}\n",
    "            H_B = (sum_{i}{Zi})^2 = sum_{i}{Zi^2}+sum_{i!=j}{ZiZj}\n",
    "            H_A is for achieving goal 2 and H_B is for achieving goal 1.\n",
    "    Args:\n",
    "        weight_matrix: Adjacency matrix.\n",
    "    Returns:\n",
    "        Operator for the Hamiltonian\n",
    "        A constant shift for the obj function.\n",
    "    \"\"\"\n",
    "    num_nodes = len(weight_matrix)\n",
    "    pauli_list = []\n",
    "    coeffs = []\n",
    "    shift = 0\n",
    "\n",
    "    for i in range(num_nodes):\n",
    "        for j in range(i):\n",
    "            if weight_matrix[i, j] != 0:\n",
    "                x_p = np.zeros(num_nodes, dtype=bool)\n",
    "                z_p = np.zeros(num_nodes, dtype=bool)\n",
    "                z_p[i] = True\n",
    "                z_p[j] = True\n",
    "                pauli_list.append(Pauli((z_p, x_p)))\n",
    "                coeffs.append(-0.5)\n",
    "                shift += 0.5\n",
    "\n",
    "    for i in range(num_nodes):\n",
    "        for j in range(num_nodes):\n",
    "            if i != j:\n",
    "                x_p = np.zeros(num_nodes, dtype=bool)\n",
    "                z_p = np.zeros(num_nodes, dtype=bool)\n",
    "                z_p[i] = True\n",
    "                z_p[j] = True\n",
    "                pauli_list.append(Pauli((z_p, x_p)))\n",
    "                coeffs.append(1.0)\n",
    "            else:\n",
    "                shift += 1\n",
    "\n",
    "    return SparsePauliOp(pauli_list, coeffs=coeffs), shift"
   ]
  },
  {
   "cell_type": "code",
   "execution_count": 22,
   "id": "a104f582",
   "metadata": {},
   "outputs": [],
   "source": [
    "qubit_op, offset = get_operator(w)"
   ]
  },
  {
   "cell_type": "code",
   "execution_count": 23,
   "id": "be4af969",
   "metadata": {},
   "outputs": [],
   "source": [
    "from qiskit.algorithms.minimum_eigensolvers import QAOA\n",
    "from qiskit.algorithms.optimizers import COBYLA\n",
    "from qiskit.circuit.library import TwoLocal\n",
    "from qiskit.primitives import Sampler\n",
    "from qiskit.quantum_info import Pauli, Statevector\n",
    "from qiskit.result import QuasiDistribution\n",
    "from qiskit.utils import algorithm_globals"
   ]
  },
  {
   "cell_type": "code",
   "execution_count": 24,
   "id": "97221b63",
   "metadata": {},
   "outputs": [],
   "source": [
    "sampler = Sampler()"
   ]
  },
  {
   "cell_type": "code",
   "execution_count": 25,
   "id": "7d9de48d",
   "metadata": {},
   "outputs": [],
   "source": [
    "def sample_most_likely(state_vector: QuasiDistribution | Statevector) -> np.ndarray:\n",
    "    \"\"\"Compute the most likely binary string from state vector.\n",
    "    Args:\n",
    "        state_vector: State vector or quasi-distribution.\n",
    "\n",
    "    Returns:\n",
    "        Binary string as an array of ints.\n",
    "    \"\"\"\n",
    "    if isinstance(state_vector, QuasiDistribution):\n",
    "        values = list(state_vector.values())\n",
    "    else:\n",
    "        values = state_vector\n",
    "    n = int(np.log2(len(values)))\n",
    "    k = np.argmax(np.abs(values))\n",
    "    x = bitfield(k, n)\n",
    "    x.reverse()\n",
    "    return np.asarray(x)"
   ]
  },
  {
   "cell_type": "code",
   "execution_count": 26,
   "id": "59717da3",
   "metadata": {},
   "outputs": [],
   "source": [
    "algorithm_globals.random_seed = 10598"
   ]
  },
  {
   "cell_type": "code",
   "execution_count": 27,
   "id": "40b33896",
   "metadata": {},
   "outputs": [],
   "source": [
    "optimizer = COBYLA()\n",
    "qaoa = QAOA(sampler, optimizer, reps=2)"
   ]
  },
  {
   "cell_type": "code",
   "execution_count": 28,
   "id": "2a771d3f",
   "metadata": {},
   "outputs": [],
   "source": [
    "result = qaoa.compute_minimum_eigenvalue(qubit_op)"
   ]
  },
  {
   "cell_type": "code",
   "execution_count": 29,
   "id": "6669bc1e",
   "metadata": {},
   "outputs": [],
   "source": [
    "x = sample_most_likely(result.eigenstate)"
   ]
  },
  {
   "cell_type": "code",
   "execution_count": 30,
   "id": "89bca8a9",
   "metadata": {},
   "outputs": [
    {
     "name": "stdout",
     "output_type": "stream",
     "text": [
      "[1 1 0 0]\n"
     ]
    }
   ],
   "source": [
    "print(x)"
   ]
  },
  {
   "cell_type": "code",
   "execution_count": 31,
   "id": "ea37ee1b",
   "metadata": {},
   "outputs": [
    {
     "name": "stdout",
     "output_type": "stream",
     "text": [
      "Objective value computed by QAOA is 3\n"
     ]
    }
   ],
   "source": [
    "print(f'Objective value computed by QAOA is {objective_value(x, w)}')"
   ]
  },
  {
   "cell_type": "code",
   "execution_count": 32,
   "id": "72dcaa6e",
   "metadata": {},
   "outputs": [],
   "source": [
    "from qiskit.algorithms.minimum_eigensolvers import NumPyMinimumEigensolver\n",
    "from qiskit.quantum_info import Operator"
   ]
  },
  {
   "cell_type": "code",
   "execution_count": 33,
   "id": "76ddb47f",
   "metadata": {},
   "outputs": [],
   "source": [
    "npme = NumPyMinimumEigensolver()"
   ]
  },
  {
   "cell_type": "code",
   "execution_count": 34,
   "id": "1bc9d932",
   "metadata": {},
   "outputs": [],
   "source": [
    "result = npme.compute_minimum_eigenvalue(Operator(qubit_op))"
   ]
  },
  {
   "cell_type": "code",
   "execution_count": 35,
   "id": "90f392a8",
   "metadata": {},
   "outputs": [],
   "source": [
    "x = sample_most_likely(result.eigenstate)"
   ]
  },
  {
   "cell_type": "code",
   "execution_count": 36,
   "id": "e41d8622",
   "metadata": {},
   "outputs": [
    {
     "name": "stdout",
     "output_type": "stream",
     "text": [
      "[1 1 0 0]\n",
      "Objective value computed by the NumPyMinimumEigensolver is 3\n"
     ]
    }
   ],
   "source": [
    "print(x)\n",
    "print(f'Objective value computed by the NumPyMinimumEigensolver is {objective_value(x, w)}')"
   ]
  },
  {
   "cell_type": "code",
   "execution_count": 37,
   "id": "c03badef",
   "metadata": {},
   "outputs": [],
   "source": [
    "from qiskit.algorithms.minimum_eigensolvers import SamplingVQE\n",
    "from qiskit.circuit.library import TwoLocal\n",
    "from qiskit.utils import algorithm_globals"
   ]
  },
  {
   "cell_type": "code",
   "execution_count": 38,
   "id": "97bda13d",
   "metadata": {},
   "outputs": [],
   "source": [
    "algorithm_globals.random_seed = 10598"
   ]
  },
  {
   "cell_type": "code",
   "execution_count": 39,
   "id": "9fc2609e",
   "metadata": {},
   "outputs": [],
   "source": [
    "optimizer = COBYLA()\n",
    "ansatz = TwoLocal(qubit_op.num_qubits, \"ry\", \"cz\", reps=2, entanglement=\"linear\")\n",
    "sampling_vqe = SamplingVQE(sampler, ansatz, optimizer)"
   ]
  },
  {
   "cell_type": "code",
   "execution_count": 40,
   "id": "04e75145",
   "metadata": {},
   "outputs": [],
   "source": [
    "result = sampling_vqe.compute_minimum_eigenvalue(qubit_op)"
   ]
  },
  {
   "cell_type": "code",
   "execution_count": 41,
   "id": "5e686fec",
   "metadata": {},
   "outputs": [],
   "source": [
    "x = sample_most_likely(result.eigenstate)"
   ]
  },
  {
   "cell_type": "code",
   "execution_count": 42,
   "id": "50c88880",
   "metadata": {},
   "outputs": [
    {
     "name": "stdout",
     "output_type": "stream",
     "text": [
      "[0 1 0 1]\n",
      "Objective value computed by VQE is 3\n"
     ]
    }
   ],
   "source": [
    "print(x)\n",
    "print(f\"Objective value computed by VQE is {objective_value(x, w)}\")"
   ]
  },
  {
   "cell_type": "code",
   "execution_count": null,
   "id": "8ac071ad",
   "metadata": {},
   "outputs": [],
   "source": []
  }
 ],
 "metadata": {
  "kernelspec": {
   "display_name": "Python 3 (ipykernel)",
   "language": "python",
   "name": "python3"
  },
  "language_info": {
   "codemirror_mode": {
    "name": "ipython",
    "version": 3
   },
   "file_extension": ".py",
   "mimetype": "text/x-python",
   "name": "python",
   "nbconvert_exporter": "python",
   "pygments_lexer": "ipython3",
   "version": "3.9.13"
  }
 },
 "nbformat": 4,
 "nbformat_minor": 5
}
